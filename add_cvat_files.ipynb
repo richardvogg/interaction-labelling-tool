{
 "cells": [
  {
   "cell_type": "code",
   "execution_count": 2,
   "metadata": {},
   "outputs": [],
   "source": [
    "import os\n",
    "import re\n",
    "import numpy as np\n",
    "import shutil"
   ]
  },
  {
   "cell_type": "code",
   "execution_count": 3,
   "metadata": {},
   "outputs": [
    {
     "data": {
      "text/plain": [
       "'/Users/vogg/Documents/Python/interaction-labelling-tool'"
      ]
     },
     "execution_count": 3,
     "metadata": {},
     "output_type": "execute_result"
    }
   ],
   "source": [
    "os.getcwd()"
   ]
  },
  {
   "cell_type": "code",
   "execution_count": 4,
   "metadata": {},
   "outputs": [],
   "source": [
    "path = \"/Users/vogg/Documents/Labeling/Macaques/macaque_videos_eval/\""
   ]
  },
  {
   "cell_type": "code",
   "execution_count": 5,
   "metadata": {},
   "outputs": [],
   "source": [
    "video_list = os.listdir(path)\n",
    "video_list = [elem for elem in video_list if elem.startswith(\"VID_\")]"
   ]
  },
  {
   "cell_type": "code",
   "execution_count": 6,
   "metadata": {},
   "outputs": [
    {
     "data": {
      "text/plain": [
       "'VID_20210227_133251_0'"
      ]
     },
     "execution_count": 6,
     "metadata": {},
     "output_type": "execute_result"
    }
   ],
   "source": [
    "video = video_list[0]\n",
    "video"
   ]
  },
  {
   "cell_type": "code",
   "execution_count": 7,
   "metadata": {},
   "outputs": [],
   "source": [
    "with open(path + video + \"/obj.names\", \"w\") as f:\n",
    "    f.write(\"macaque\")\n"
   ]
  },
  {
   "cell_type": "code",
   "execution_count": 8,
   "metadata": {},
   "outputs": [],
   "source": [
    "with open(path + video + \"/obj.data\", \"w\") as f:\n",
    "    f.write(\"classes = 1\\n\")\n",
    "    f.write(\"train = data/train.txt\\n\")\n",
    "    f.write(\"names = data/obj.names\\n\")\n",
    "    f.write(\"backup = backup/\")\n",
    "\n"
   ]
  },
  {
   "cell_type": "code",
   "execution_count": 9,
   "metadata": {},
   "outputs": [],
   "source": [
    "with open(path + video + \"/train.txt\", \"w\") as f:\n",
    "    for file in sorted(os.listdir(path + video + \"/obj_train_data\")):\n",
    "        if file.endswith(\"txt\"):\n",
    "            f.write(\"data/obj_train_data/\" + file.replace(\".txt\", \".jpg\") + \"\\n\")\n"
   ]
  },
  {
   "cell_type": "code",
   "execution_count": 10,
   "metadata": {},
   "outputs": [],
   "source": [
    "def read_agecker_Macaque_wild(folder_path, scale_size = (1920, 1080)):\n",
    "    width, height = scale_size\n",
    "    data_names = os.listdir(folder_path)\n",
    "    data_names = [name for name in data_names if re.search(\".txt\",name)]\n",
    "    frame_nr = []\n",
    "    class_name = []\n",
    "    id_nr = []\n",
    "    bbox_xywh = []\n",
    "    for data_name in data_names:\n",
    "        maca_data = open(os.path.join(folder_path,data_name)).read().strip().split(\"\\n\")\n",
    "        if maca_data == [\"\"]:\n",
    "            continue\n",
    "        maca_data = [[float(nr) for nr in row.strip().split(\" \")] for row in maca_data]\n",
    "        frame_name = data_name.split(\".\")[0]\n",
    "        #-1 that mot also starts at 0\n",
    "        frame_nr_to_append = int(re.findall(\"[0-9]+\",frame_name)[0])\n",
    "        for row in maca_data:\n",
    "            frame_nr.append(frame_nr_to_append)\n",
    "            class_name.append(row[0])\n",
    "            id_nr.append(row[1])\n",
    "            #to upper left corner from middle \n",
    "            row[2] = (float(row[2]) - float(row[4])/2) * width\n",
    "            row[3] = (float(row[3]) - float(row[5])/2) * height\n",
    "            row[4] = float(row[4]) * width\n",
    "            row[5] = float(row[5]) * height\n",
    "            row[2:6] = [round(x,2) for x in row[2:6]]\n",
    "            bbox_xywh.append(row[2:6])\n",
    "    #now bring them in the right order of the frames for sure:\n",
    "    order_to_follow = np.argsort(frame_nr)\n",
    "    frame_nr = [frame_nr[i] for i in order_to_follow]\n",
    "    id_nr = [id_nr[i] for i in order_to_follow]\n",
    "    bbox_xywh = [bbox_xywh[i] for i in order_to_follow]\n",
    "    class_name = [class_name[i] for i in order_to_follow]\n",
    "    return {\"frame_name\":frame_nr,\"id_nr\":id_nr,\"bbox_xywh\":bbox_xywh,\"class_name\":class_name}\n",
    "\n",
    "\n",
    "\n",
    "def write_MOT(path, dict_to_write):\n",
    "    \"\"\"\n",
    "    Write the MOT file for the given dictionary\n",
    "\n",
    "    path: path to write the file\n",
    "    dict_to_write: dictionary with MOT data\n",
    "    \"\"\"\n",
    "    frame_names = dict_to_write[\"frame_name\"]\n",
    "    frame_nr = [int(re.findall(\"[0-9]+\", str(frame_name))[0]) for frame_name in frame_names]\n",
    "    id_nr = dict_to_write[\"id_nr\"]\n",
    "    bbox_xywh = dict_to_write[\"bbox_xywh\"]\n",
    "    #confidence_score = dict_to_write[\"confidence_score\"]\n",
    "    n = len(frame_nr)\n",
    "\n",
    "    with open(path, \"w\") as f:\n",
    "        for i in range(n -1 ):\n",
    "            row = [str(frame_nr[i]+1), str(int(id_nr[i])+1), *[str(round(x, 2)) for x in bbox_xywh[i]], str(1),str(1),str(1.0)]\n",
    "            f.write(\",\".join(row) + \"\\n\")\n",
    "\n",
    "        row = [str(frame_nr[n-1]+1), str(int(id_nr[n-1])+1), *[str(round(x, 2)) for x in bbox_xywh[n-1]], str(1),str(1),str(1.0)]\n",
    "        f.write(\",\".join(row))"
   ]
  },
  {
   "cell_type": "code",
   "execution_count": 11,
   "metadata": {},
   "outputs": [],
   "source": [
    "def zip_folder(folder_path):\n",
    "    # Get the parent directory and name of the folder\n",
    "    parent_dir = os.path.dirname(folder_path)\n",
    "    folder_name = os.path.basename(folder_path)\n",
    "    \n",
    "    # Create the zip file name\n",
    "    zip_filename = f\"{folder_name}.zip\"\n",
    "    zip_filepath = os.path.join(parent_dir, zip_filename)\n",
    "    \n",
    "    # Zip the folder\n",
    "    shutil.make_archive(folder_path, 'zip', folder_path)\n",
    "    \n",
    "    # Delete the folder\n",
    "    shutil.rmtree(folder_path)\n",
    "    \n",
    "    print(f\"Folder '{folder_path}' zipped and deleted. Zip file saved as '{zip_filepath}'.\")\n"
   ]
  },
  {
   "cell_type": "code",
   "execution_count": 12,
   "metadata": {},
   "outputs": [],
   "source": [
    "for video in video_list:\n",
    "    if not os.path.exists(os.path.join(path, video, \"gt\")):\n",
    "        os.mkdir(os.path.join(path, video, \"gt\"))\n",
    "    full_path = os.path.join(path, video, \"labels_with_ids\")\n",
    "    test_dict = read_agecker_Macaque_wild(full_path)\n",
    "    write_MOT(os.path.join(path, video, \"gt/gt.txt\"), test_dict)\n",
    "\n",
    "    with open(os.path.join(path, video, \"gt/labels.txt\"), \"w\") as f:\n",
    "        f.write(\"macaque\")\n",
    "    #zip_folder(os.path.join(path, video, \"gt/\"))"
   ]
  },
  {
   "cell_type": "code",
   "execution_count": 63,
   "metadata": {},
   "outputs": [],
   "source": [
    "for video in video_list:\n",
    "    shutil.rmtree(os.path.join(path, video, \"test\"))"
   ]
  }
 ],
 "metadata": {
  "kernelspec": {
   "display_name": "kmeans",
   "language": "python",
   "name": "python3"
  },
  "language_info": {
   "codemirror_mode": {
    "name": "ipython",
    "version": 3
   },
   "file_extension": ".py",
   "mimetype": "text/x-python",
   "name": "python",
   "nbconvert_exporter": "python",
   "pygments_lexer": "ipython3",
   "version": "3.10.5"
  },
  "orig_nbformat": 4,
  "vscode": {
   "interpreter": {
    "hash": "1d3d17b59cc69f68bae10821f6eb22ff1a6494d02c19428adb81f50ecf7fa85d"
   }
  }
 },
 "nbformat": 4,
 "nbformat_minor": 2
}
